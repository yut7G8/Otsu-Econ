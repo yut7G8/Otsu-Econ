{
 "cells": [
  {
   "cell_type": "markdown",
   "metadata": {},
   "source": [
    "# Empirical exercise"
   ]
  },
  {
   "cell_type": "code",
   "execution_count": 2,
   "metadata": {},
   "outputs": [],
   "source": [
    "import os\n",
    "import glob\n",
    "from pathlib import Path\n",
    "\n",
    "import numpy as np\n",
    "import pandas as pd\n",
    "import seaborn as sns\n",
    "import matplotlib.pyplot as plt\n",
    "\n",
    "import japanize_matplotlib\n",
    "\n",
    "import statsmodels.api as sm\n",
    "import statsmodels.formula.api as smf\n",
    "\n",
    "from tqdm import tqdm\n",
    "import pickle\n",
    "\n",
    "import warnings\n",
    "warnings.filterwarnings('ignore')"
   ]
  },
  {
   "cell_type": "code",
   "execution_count": 3,
   "metadata": {},
   "outputs": [],
   "source": [
    "plt.style.use('ggplot')"
   ]
  },
  {
   "cell_type": "code",
   "execution_count": 4,
   "metadata": {},
   "outputs": [],
   "source": [
    "class Config:\n",
    "    DATA_DIR = Path('data/')\n",
    "\n",
    "cfg = Config"
   ]
  },
  {
   "cell_type": "markdown",
   "metadata": {},
   "source": [
    "## Preprocess"
   ]
  },
  {
   "cell_type": "code",
   "execution_count": 5,
   "metadata": {},
   "outputs": [],
   "source": [
    "with open(cfg.DATA_DIR / 'GDP.txt') as f:\n",
    "    lines_list = f.readlines()"
   ]
  },
  {
   "cell_type": "code",
   "execution_count": 6,
   "metadata": {},
   "outputs": [],
   "source": [
    "gdp_dict = {\n",
    "    'GDP60' : [],\n",
    "    'GDP85' : [],\n",
    "}\n",
    "for line in lines_list:\n",
    "    gdp60 = line.replace('\\n', '').split('\\t')[0]\n",
    "    gdp85 = line.replace('\\n', '').split('\\t')[1]\n",
    "    gdp_dict['GDP60'].append(int(gdp60))\n",
    "    gdp_dict['GDP85'].append(int(gdp85))\n",
    "\n",
    "gdp_df = pd.DataFrame(gdp_dict)"
   ]
  },
  {
   "cell_type": "code",
   "execution_count": 7,
   "metadata": {},
   "outputs": [
    {
     "data": {
      "text/html": [
       "<div>\n",
       "<style scoped>\n",
       "    .dataframe tbody tr th:only-of-type {\n",
       "        vertical-align: middle;\n",
       "    }\n",
       "\n",
       "    .dataframe tbody tr th {\n",
       "        vertical-align: top;\n",
       "    }\n",
       "\n",
       "    .dataframe thead th {\n",
       "        text-align: right;\n",
       "    }\n",
       "</style>\n",
       "<table border=\"1\" class=\"dataframe\">\n",
       "  <thead>\n",
       "    <tr style=\"text-align: right;\">\n",
       "      <th></th>\n",
       "      <th>GDP60</th>\n",
       "      <th>GDP85</th>\n",
       "      <th>y</th>\n",
       "    </tr>\n",
       "  </thead>\n",
       "  <tbody>\n",
       "    <tr>\n",
       "      <th>0</th>\n",
       "      <td>1302</td>\n",
       "      <td>2142</td>\n",
       "      <td>0.019914</td>\n",
       "    </tr>\n",
       "    <tr>\n",
       "      <th>1</th>\n",
       "      <td>880</td>\n",
       "      <td>609</td>\n",
       "      <td>-0.014724</td>\n",
       "    </tr>\n",
       "    <tr>\n",
       "      <th>2</th>\n",
       "      <td>595</td>\n",
       "      <td>525</td>\n",
       "      <td>-0.005007</td>\n",
       "    </tr>\n",
       "    <tr>\n",
       "      <th>3</th>\n",
       "      <td>493</td>\n",
       "      <td>1762</td>\n",
       "      <td>0.050948</td>\n",
       "    </tr>\n",
       "    <tr>\n",
       "      <th>4</th>\n",
       "      <td>412</td>\n",
       "      <td>345</td>\n",
       "      <td>-0.007099</td>\n",
       "    </tr>\n",
       "    <tr>\n",
       "      <th>...</th>\n",
       "      <td>...</td>\n",
       "      <td>...</td>\n",
       "      <td>...</td>\n",
       "    </tr>\n",
       "    <tr>\n",
       "      <th>109</th>\n",
       "      <td>4970</td>\n",
       "      <td>8665</td>\n",
       "      <td>0.022235</td>\n",
       "    </tr>\n",
       "    <tr>\n",
       "      <th>110</th>\n",
       "      <td>5182</td>\n",
       "      <td>8850</td>\n",
       "      <td>0.021409</td>\n",
       "    </tr>\n",
       "    <tr>\n",
       "      <th>111</th>\n",
       "      <td>1799</td>\n",
       "      <td>2893</td>\n",
       "      <td>0.019003</td>\n",
       "    </tr>\n",
       "    <tr>\n",
       "      <th>112</th>\n",
       "      <td>5571</td>\n",
       "      <td>8000</td>\n",
       "      <td>0.014475</td>\n",
       "    </tr>\n",
       "    <tr>\n",
       "      <th>113</th>\n",
       "      <td>1008</td>\n",
       "      <td>1374</td>\n",
       "      <td>0.012390</td>\n",
       "    </tr>\n",
       "  </tbody>\n",
       "</table>\n",
       "<p>114 rows × 3 columns</p>\n",
       "</div>"
      ],
      "text/plain": [
       "     GDP60  GDP85         y\n",
       "0     1302   2142  0.019914\n",
       "1      880    609 -0.014724\n",
       "2      595    525 -0.005007\n",
       "3      493   1762  0.050948\n",
       "4      412    345 -0.007099\n",
       "..     ...    ...       ...\n",
       "109   4970   8665  0.022235\n",
       "110   5182   8850  0.021409\n",
       "111   1799   2893  0.019003\n",
       "112   5571   8000  0.014475\n",
       "113   1008   1374  0.012390\n",
       "\n",
       "[114 rows x 3 columns]"
      ]
     },
     "execution_count": 7,
     "metadata": {},
     "output_type": "execute_result"
    }
   ],
   "source": [
    "gdp_df['y'] = (1/25)*np.log(gdp_df['GDP85']/gdp_df['GDP60'])\n",
    "gdp_df"
   ]
  },
  {
   "cell_type": "code",
   "execution_count": 8,
   "metadata": {},
   "outputs": [],
   "source": [
    "# gdp_df.to_csv(cfg.DATA_DIR / 'GDP.csv', index=False)"
   ]
  },
  {
   "cell_type": "markdown",
   "metadata": {},
   "source": [
    "## Ex.1-1"
   ]
  },
  {
   "cell_type": "code",
   "execution_count": 9,
   "metadata": {},
   "outputs": [
    {
     "data": {
      "text/html": [
       "<table class=\"simpletable\">\n",
       "<caption>OLS Regression Results</caption>\n",
       "<tr>\n",
       "  <th>Dep. Variable:</th>            <td>y</td>        <th>  R-squared:         </th> <td>   0.018</td>\n",
       "</tr>\n",
       "<tr>\n",
       "  <th>Model:</th>                   <td>OLS</td>       <th>  Adj. R-squared:    </th> <td>   0.009</td>\n",
       "</tr>\n",
       "<tr>\n",
       "  <th>Method:</th>             <td>Least Squares</td>  <th>  F-statistic:       </th> <td>   2.064</td>\n",
       "</tr>\n",
       "<tr>\n",
       "  <th>Date:</th>             <td>Tue, 25 Jun 2024</td> <th>  Prob (F-statistic):</th>  <td> 0.154</td> \n",
       "</tr>\n",
       "<tr>\n",
       "  <th>Time:</th>                 <td>13:57:12</td>     <th>  Log-Likelihood:    </th> <td>  288.15</td>\n",
       "</tr>\n",
       "<tr>\n",
       "  <th>No. Observations:</th>      <td>   114</td>      <th>  AIC:               </th> <td>  -572.3</td>\n",
       "</tr>\n",
       "<tr>\n",
       "  <th>Df Residuals:</th>          <td>   112</td>      <th>  BIC:               </th> <td>  -566.8</td>\n",
       "</tr>\n",
       "<tr>\n",
       "  <th>Df Model:</th>              <td>     1</td>      <th>                     </th>     <td> </td>   \n",
       "</tr>\n",
       "<tr>\n",
       "  <th>Covariance Type:</th>      <td>nonrobust</td>    <th>                     </th>     <td> </td>   \n",
       "</tr>\n",
       "</table>\n",
       "<table class=\"simpletable\">\n",
       "<tr>\n",
       "    <td></td>       <th>coef</th>     <th>std err</th>      <th>t</th>      <th>P>|t|</th>  <th>[0.025</th>    <th>0.975]</th>  \n",
       "</tr>\n",
       "<tr>\n",
       "  <th>const</th> <td>    0.0175</td> <td>    0.003</td> <td>    6.706</td> <td> 0.000</td> <td>    0.012</td> <td>    0.023</td>\n",
       "</tr>\n",
       "<tr>\n",
       "  <th>GDP60</th> <td> 1.507e-06</td> <td> 1.05e-06</td> <td>    1.437</td> <td> 0.154</td> <td>-5.71e-07</td> <td> 3.58e-06</td>\n",
       "</tr>\n",
       "</table>\n",
       "<table class=\"simpletable\">\n",
       "<tr>\n",
       "  <th>Omnibus:</th>       <td> 1.099</td> <th>  Durbin-Watson:     </th> <td>   1.839</td>\n",
       "</tr>\n",
       "<tr>\n",
       "  <th>Prob(Omnibus):</th> <td> 0.577</td> <th>  Jarque-Bera (JB):  </th> <td>   0.890</td>\n",
       "</tr>\n",
       "<tr>\n",
       "  <th>Skew:</th>          <td> 0.216</td> <th>  Prob(JB):          </th> <td>   0.641</td>\n",
       "</tr>\n",
       "<tr>\n",
       "  <th>Kurtosis:</th>      <td> 3.021</td> <th>  Cond. No.          </th> <td>3.55e+03</td>\n",
       "</tr>\n",
       "</table><br/><br/>Notes:<br/>[1] Standard Errors assume that the covariance matrix of the errors is correctly specified.<br/>[2] The condition number is large, 3.55e+03. This might indicate that there are<br/>strong multicollinearity or other numerical problems."
      ],
      "text/latex": [
       "\\begin{center}\n",
       "\\begin{tabular}{lclc}\n",
       "\\toprule\n",
       "\\textbf{Dep. Variable:}    &        y         & \\textbf{  R-squared:         } &     0.018   \\\\\n",
       "\\textbf{Model:}            &       OLS        & \\textbf{  Adj. R-squared:    } &     0.009   \\\\\n",
       "\\textbf{Method:}           &  Least Squares   & \\textbf{  F-statistic:       } &     2.064   \\\\\n",
       "\\textbf{Date:}             & Tue, 25 Jun 2024 & \\textbf{  Prob (F-statistic):} &    0.154    \\\\\n",
       "\\textbf{Time:}             &     13:57:12     & \\textbf{  Log-Likelihood:    } &    288.15   \\\\\n",
       "\\textbf{No. Observations:} &         114      & \\textbf{  AIC:               } &    -572.3   \\\\\n",
       "\\textbf{Df Residuals:}     &         112      & \\textbf{  BIC:               } &    -566.8   \\\\\n",
       "\\textbf{Df Model:}         &           1      & \\textbf{                     } &             \\\\\n",
       "\\textbf{Covariance Type:}  &    nonrobust     & \\textbf{                     } &             \\\\\n",
       "\\bottomrule\n",
       "\\end{tabular}\n",
       "\\begin{tabular}{lcccccc}\n",
       "               & \\textbf{coef} & \\textbf{std err} & \\textbf{t} & \\textbf{P$> |$t$|$} & \\textbf{[0.025} & \\textbf{0.975]}  \\\\\n",
       "\\midrule\n",
       "\\textbf{const} &       0.0175  &        0.003     &     6.706  &         0.000        &        0.012    &        0.023     \\\\\n",
       "\\textbf{GDP60} &    1.507e-06  &     1.05e-06     &     1.437  &         0.154        &    -5.71e-07    &     3.58e-06     \\\\\n",
       "\\bottomrule\n",
       "\\end{tabular}\n",
       "\\begin{tabular}{lclc}\n",
       "\\textbf{Omnibus:}       &  1.099 & \\textbf{  Durbin-Watson:     } &    1.839  \\\\\n",
       "\\textbf{Prob(Omnibus):} &  0.577 & \\textbf{  Jarque-Bera (JB):  } &    0.890  \\\\\n",
       "\\textbf{Skew:}          &  0.216 & \\textbf{  Prob(JB):          } &    0.641  \\\\\n",
       "\\textbf{Kurtosis:}      &  3.021 & \\textbf{  Cond. No.          } & 3.55e+03  \\\\\n",
       "\\bottomrule\n",
       "\\end{tabular}\n",
       "%\\caption{OLS Regression Results}\n",
       "\\end{center}\n",
       "\n",
       "Notes: \\newline\n",
       " [1] Standard Errors assume that the covariance matrix of the errors is correctly specified. \\newline\n",
       " [2] The condition number is large, 3.55e+03. This might indicate that there are \\newline\n",
       " strong multicollinearity or other numerical problems."
      ],
      "text/plain": [
       "<class 'statsmodels.iolib.summary.Summary'>\n",
       "\"\"\"\n",
       "                            OLS Regression Results                            \n",
       "==============================================================================\n",
       "Dep. Variable:                      y   R-squared:                       0.018\n",
       "Model:                            OLS   Adj. R-squared:                  0.009\n",
       "Method:                 Least Squares   F-statistic:                     2.064\n",
       "Date:                Tue, 25 Jun 2024   Prob (F-statistic):              0.154\n",
       "Time:                        13:57:12   Log-Likelihood:                 288.15\n",
       "No. Observations:                 114   AIC:                            -572.3\n",
       "Df Residuals:                     112   BIC:                            -566.8\n",
       "Df Model:                           1                                         \n",
       "Covariance Type:            nonrobust                                         \n",
       "==============================================================================\n",
       "                 coef    std err          t      P>|t|      [0.025      0.975]\n",
       "------------------------------------------------------------------------------\n",
       "const          0.0175      0.003      6.706      0.000       0.012       0.023\n",
       "GDP60       1.507e-06   1.05e-06      1.437      0.154   -5.71e-07    3.58e-06\n",
       "==============================================================================\n",
       "Omnibus:                        1.099   Durbin-Watson:                   1.839\n",
       "Prob(Omnibus):                  0.577   Jarque-Bera (JB):                0.890\n",
       "Skew:                           0.216   Prob(JB):                        0.641\n",
       "Kurtosis:                       3.021   Cond. No.                     3.55e+03\n",
       "==============================================================================\n",
       "\n",
       "Notes:\n",
       "[1] Standard Errors assume that the covariance matrix of the errors is correctly specified.\n",
       "[2] The condition number is large, 3.55e+03. This might indicate that there are\n",
       "strong multicollinearity or other numerical problems.\n",
       "\"\"\""
      ]
     },
     "execution_count": 9,
     "metadata": {},
     "output_type": "execute_result"
    }
   ],
   "source": [
    "y = gdp_df['y']\n",
    "X = gdp_df['GDP60']\n",
    "X = sm.add_constant(X)\n",
    "model_ols = sm.OLS(y, X)\n",
    "ols_res = model_ols.fit()\n",
    "ols_res.summary()"
   ]
  },
  {
   "cell_type": "markdown",
   "metadata": {},
   "source": [
    "## Ex. 1-2"
   ]
  },
  {
   "cell_type": "code",
   "execution_count": 10,
   "metadata": {},
   "outputs": [],
   "source": [
    "y = gdp_df['y']\n",
    "X = gdp_df['GDP60']\n",
    "X = sm.add_constant(X)\n",
    "model = sm.OLS(y, X)\n",
    "ols_res = model.fit()\n",
    "residual = ols_res.resid\n",
    "residual_squared = residual**2 "
   ]
  },
  {
   "cell_type": "code",
   "execution_count": 11,
   "metadata": {},
   "outputs": [
    {
     "data": {
      "text/html": [
       "<table class=\"simpletable\">\n",
       "<caption>OLS Regression Results</caption>\n",
       "<tr>\n",
       "  <th>Dep. Variable:</th>            <td>y</td>        <th>  R-squared:         </th> <td>   0.039</td>\n",
       "</tr>\n",
       "<tr>\n",
       "  <th>Model:</th>                   <td>OLS</td>       <th>  Adj. R-squared:    </th> <td>   0.022</td>\n",
       "</tr>\n",
       "<tr>\n",
       "  <th>Method:</th>             <td>Least Squares</td>  <th>  F-statistic:       </th> <td>   2.268</td>\n",
       "</tr>\n",
       "<tr>\n",
       "  <th>Date:</th>             <td>Tue, 25 Jun 2024</td> <th>  Prob (F-statistic):</th>  <td> 0.108</td> \n",
       "</tr>\n",
       "<tr>\n",
       "  <th>Time:</th>                 <td>13:57:12</td>     <th>  Log-Likelihood:    </th> <td>  700.24</td>\n",
       "</tr>\n",
       "<tr>\n",
       "  <th>No. Observations:</th>      <td>   114</td>      <th>  AIC:               </th> <td>  -1394.</td>\n",
       "</tr>\n",
       "<tr>\n",
       "  <th>Df Residuals:</th>          <td>   111</td>      <th>  BIC:               </th> <td>  -1386.</td>\n",
       "</tr>\n",
       "<tr>\n",
       "  <th>Df Model:</th>              <td>     2</td>      <th>                     </th>     <td> </td>   \n",
       "</tr>\n",
       "<tr>\n",
       "  <th>Covariance Type:</th>      <td>nonrobust</td>    <th>                     </th>     <td> </td>   \n",
       "</tr>\n",
       "</table>\n",
       "<table class=\"simpletable\">\n",
       "<tr>\n",
       "    <td></td>       <th>coef</th>     <th>std err</th>      <th>t</th>      <th>P>|t|</th>  <th>[0.025</th>    <th>0.975]</th>  \n",
       "</tr>\n",
       "<tr>\n",
       "  <th>const</th> <td>    0.0004</td> <td>    0.000</td> <td>    4.288</td> <td> 0.000</td> <td>    0.000</td> <td>    0.001</td>\n",
       "</tr>\n",
       "<tr>\n",
       "  <th>GDP60</th> <td>-1.812e-08</td> <td> 1.07e-07</td> <td>   -0.169</td> <td> 0.866</td> <td> -2.3e-07</td> <td> 1.94e-07</td>\n",
       "</tr>\n",
       "<tr>\n",
       "  <th>x2</th>    <td>-6.865e-12</td> <td> 1.72e-11</td> <td>   -0.399</td> <td> 0.691</td> <td> -4.1e-11</td> <td> 2.72e-11</td>\n",
       "</tr>\n",
       "</table>\n",
       "<table class=\"simpletable\">\n",
       "<tr>\n",
       "  <th>Omnibus:</th>       <td>72.154</td> <th>  Durbin-Watson:     </th> <td>   2.345</td>\n",
       "</tr>\n",
       "<tr>\n",
       "  <th>Prob(Omnibus):</th> <td> 0.000</td> <th>  Jarque-Bera (JB):  </th> <td> 287.554</td>\n",
       "</tr>\n",
       "<tr>\n",
       "  <th>Skew:</th>          <td> 2.323</td> <th>  Prob(JB):          </th> <td>3.62e-63</td>\n",
       "</tr>\n",
       "<tr>\n",
       "  <th>Kurtosis:</th>      <td> 9.241</td> <th>  Cond. No.          </th> <td>2.64e+07</td>\n",
       "</tr>\n",
       "</table><br/><br/>Notes:<br/>[1] Standard Errors assume that the covariance matrix of the errors is correctly specified.<br/>[2] The condition number is large, 2.64e+07. This might indicate that there are<br/>strong multicollinearity or other numerical problems."
      ],
      "text/latex": [
       "\\begin{center}\n",
       "\\begin{tabular}{lclc}\n",
       "\\toprule\n",
       "\\textbf{Dep. Variable:}    &        y         & \\textbf{  R-squared:         } &     0.039   \\\\\n",
       "\\textbf{Model:}            &       OLS        & \\textbf{  Adj. R-squared:    } &     0.022   \\\\\n",
       "\\textbf{Method:}           &  Least Squares   & \\textbf{  F-statistic:       } &     2.268   \\\\\n",
       "\\textbf{Date:}             & Tue, 25 Jun 2024 & \\textbf{  Prob (F-statistic):} &    0.108    \\\\\n",
       "\\textbf{Time:}             &     13:57:12     & \\textbf{  Log-Likelihood:    } &    700.24   \\\\\n",
       "\\textbf{No. Observations:} &         114      & \\textbf{  AIC:               } &    -1394.   \\\\\n",
       "\\textbf{Df Residuals:}     &         111      & \\textbf{  BIC:               } &    -1386.   \\\\\n",
       "\\textbf{Df Model:}         &           2      & \\textbf{                     } &             \\\\\n",
       "\\textbf{Covariance Type:}  &    nonrobust     & \\textbf{                     } &             \\\\\n",
       "\\bottomrule\n",
       "\\end{tabular}\n",
       "\\begin{tabular}{lcccccc}\n",
       "               & \\textbf{coef} & \\textbf{std err} & \\textbf{t} & \\textbf{P$> |$t$|$} & \\textbf{[0.025} & \\textbf{0.975]}  \\\\\n",
       "\\midrule\n",
       "\\textbf{const} &       0.0004  &        0.000     &     4.288  &         0.000        &        0.000    &        0.001     \\\\\n",
       "\\textbf{GDP60} &   -1.812e-08  &     1.07e-07     &    -0.169  &         0.866        &     -2.3e-07    &     1.94e-07     \\\\\n",
       "\\textbf{x2}    &   -6.865e-12  &     1.72e-11     &    -0.399  &         0.691        &     -4.1e-11    &     2.72e-11     \\\\\n",
       "\\bottomrule\n",
       "\\end{tabular}\n",
       "\\begin{tabular}{lclc}\n",
       "\\textbf{Omnibus:}       & 72.154 & \\textbf{  Durbin-Watson:     } &    2.345  \\\\\n",
       "\\textbf{Prob(Omnibus):} &  0.000 & \\textbf{  Jarque-Bera (JB):  } &  287.554  \\\\\n",
       "\\textbf{Skew:}          &  2.323 & \\textbf{  Prob(JB):          } & 3.62e-63  \\\\\n",
       "\\textbf{Kurtosis:}      &  9.241 & \\textbf{  Cond. No.          } & 2.64e+07  \\\\\n",
       "\\bottomrule\n",
       "\\end{tabular}\n",
       "%\\caption{OLS Regression Results}\n",
       "\\end{center}\n",
       "\n",
       "Notes: \\newline\n",
       " [1] Standard Errors assume that the covariance matrix of the errors is correctly specified. \\newline\n",
       " [2] The condition number is large, 2.64e+07. This might indicate that there are \\newline\n",
       " strong multicollinearity or other numerical problems."
      ],
      "text/plain": [
       "<class 'statsmodels.iolib.summary.Summary'>\n",
       "\"\"\"\n",
       "                            OLS Regression Results                            \n",
       "==============================================================================\n",
       "Dep. Variable:                      y   R-squared:                       0.039\n",
       "Model:                            OLS   Adj. R-squared:                  0.022\n",
       "Method:                 Least Squares   F-statistic:                     2.268\n",
       "Date:                Tue, 25 Jun 2024   Prob (F-statistic):              0.108\n",
       "Time:                        13:57:12   Log-Likelihood:                 700.24\n",
       "No. Observations:                 114   AIC:                            -1394.\n",
       "Df Residuals:                     111   BIC:                            -1386.\n",
       "Df Model:                           2                                         \n",
       "Covariance Type:            nonrobust                                         \n",
       "==============================================================================\n",
       "                 coef    std err          t      P>|t|      [0.025      0.975]\n",
       "------------------------------------------------------------------------------\n",
       "const          0.0004      0.000      4.288      0.000       0.000       0.001\n",
       "GDP60      -1.812e-08   1.07e-07     -0.169      0.866    -2.3e-07    1.94e-07\n",
       "x2         -6.865e-12   1.72e-11     -0.399      0.691    -4.1e-11    2.72e-11\n",
       "==============================================================================\n",
       "Omnibus:                       72.154   Durbin-Watson:                   2.345\n",
       "Prob(Omnibus):                  0.000   Jarque-Bera (JB):              287.554\n",
       "Skew:                           2.323   Prob(JB):                     3.62e-63\n",
       "Kurtosis:                       9.241   Cond. No.                     2.64e+07\n",
       "==============================================================================\n",
       "\n",
       "Notes:\n",
       "[1] Standard Errors assume that the covariance matrix of the errors is correctly specified.\n",
       "[2] The condition number is large, 2.64e+07. This might indicate that there are\n",
       "strong multicollinearity or other numerical problems.\n",
       "\"\"\""
      ]
     },
     "execution_count": 11,
     "metadata": {},
     "output_type": "execute_result"
    }
   ],
   "source": [
    "gdp_df['x2'] = gdp_df['GDP60']**2\n",
    "\n",
    "X_skd = gdp_df[['GDP60', 'x2']]\n",
    "X_skd = sm.add_constant(X_skd)\n",
    "\n",
    "model_skd = sm.OLS(residual_squared, X_skd)\n",
    "skd_res= model_skd.fit()\n",
    "skd_res.summary()"
   ]
  },
  {
   "cell_type": "code",
   "execution_count": 12,
   "metadata": {},
   "outputs": [],
   "source": [
    "sigma_squared = skd_res.fittedvalues\n",
    "w = 1.0 / np.sqrt(sigma_squared)\n",
    "\n",
    "X_w = X.apply(lambda row: row * w, axis=0)\n",
    "y_w = y*w"
   ]
  },
  {
   "cell_type": "code",
   "execution_count": 13,
   "metadata": {},
   "outputs": [
    {
     "name": "stdout",
     "output_type": "stream",
     "text": [
      "55   NaN\n",
      "dtype: float64\n",
      "nan\n"
     ]
    },
    {
     "data": {
      "text/plain": [
       "-5.9737659905225436e-05"
      ]
     },
     "execution_count": 13,
     "metadata": {},
     "output_type": "execute_result"
    }
   ],
   "source": [
    "print(w[w.isna()])\n",
    "print(1/np.sqrt(sigma_squared.iloc[55]))\n",
    "sigma_squared.iloc[55]"
   ]
  },
  {
   "cell_type": "code",
   "execution_count": 14,
   "metadata": {},
   "outputs": [
    {
     "data": {
      "text/html": [
       "<table class=\"simpletable\">\n",
       "<caption>OLS Regression Results</caption>\n",
       "<tr>\n",
       "  <th>Dep. Variable:</th>            <td>y</td>        <th>  R-squared (uncentered):</th>      <td>   0.674</td>\n",
       "</tr>\n",
       "<tr>\n",
       "  <th>Model:</th>                   <td>OLS</td>       <th>  Adj. R-squared (uncentered):</th> <td>   0.668</td>\n",
       "</tr>\n",
       "<tr>\n",
       "  <th>Method:</th>             <td>Least Squares</td>  <th>  F-statistic:       </th>          <td>   114.5</td>\n",
       "</tr>\n",
       "<tr>\n",
       "  <th>Date:</th>             <td>Tue, 25 Jun 2024</td> <th>  Prob (F-statistic):</th>          <td>1.04e-27</td>\n",
       "</tr>\n",
       "<tr>\n",
       "  <th>Time:</th>                 <td>13:57:13</td>     <th>  Log-Likelihood:    </th>          <td> -160.62</td>\n",
       "</tr>\n",
       "<tr>\n",
       "  <th>No. Observations:</th>      <td>   113</td>      <th>  AIC:               </th>          <td>   325.2</td>\n",
       "</tr>\n",
       "<tr>\n",
       "  <th>Df Residuals:</th>          <td>   111</td>      <th>  BIC:               </th>          <td>   330.7</td>\n",
       "</tr>\n",
       "<tr>\n",
       "  <th>Df Model:</th>              <td>     2</td>      <th>                     </th>              <td> </td>   \n",
       "</tr>\n",
       "<tr>\n",
       "  <th>Covariance Type:</th>      <td>nonrobust</td>    <th>                     </th>              <td> </td>   \n",
       "</tr>\n",
       "</table>\n",
       "<table class=\"simpletable\">\n",
       "<tr>\n",
       "    <td></td>       <th>coef</th>     <th>std err</th>      <th>t</th>      <th>P>|t|</th>  <th>[0.025</th>    <th>0.975]</th>  \n",
       "</tr>\n",
       "<tr>\n",
       "  <th>const</th> <td>    0.0199</td> <td>    0.003</td> <td>    7.957</td> <td> 0.000</td> <td>    0.015</td> <td>    0.025</td>\n",
       "</tr>\n",
       "<tr>\n",
       "  <th>GDP60</th> <td>-1.295e-07</td> <td> 4.81e-07</td> <td>   -0.269</td> <td> 0.788</td> <td>-1.08e-06</td> <td> 8.24e-07</td>\n",
       "</tr>\n",
       "</table>\n",
       "<table class=\"simpletable\">\n",
       "<tr>\n",
       "  <th>Omnibus:</th>       <td> 0.078</td> <th>  Durbin-Watson:     </th> <td>   1.628</td>\n",
       "</tr>\n",
       "<tr>\n",
       "  <th>Prob(Omnibus):</th> <td> 0.962</td> <th>  Jarque-Bera (JB):  </th> <td>   0.037</td>\n",
       "</tr>\n",
       "<tr>\n",
       "  <th>Skew:</th>          <td>-0.040</td> <th>  Prob(JB):          </th> <td>   0.982</td>\n",
       "</tr>\n",
       "<tr>\n",
       "  <th>Kurtosis:</th>      <td> 2.961</td> <th>  Cond. No.          </th> <td>1.02e+04</td>\n",
       "</tr>\n",
       "</table><br/><br/>Notes:<br/>[1] R² is computed without centering (uncentered) since the model does not contain a constant.<br/>[2] Standard Errors assume that the covariance matrix of the errors is correctly specified.<br/>[3] The condition number is large, 1.02e+04. This might indicate that there are<br/>strong multicollinearity or other numerical problems."
      ],
      "text/latex": [
       "\\begin{center}\n",
       "\\begin{tabular}{lclc}\n",
       "\\toprule\n",
       "\\textbf{Dep. Variable:}    &        y         & \\textbf{  R-squared (uncentered):}      &     0.674   \\\\\n",
       "\\textbf{Model:}            &       OLS        & \\textbf{  Adj. R-squared (uncentered):} &     0.668   \\\\\n",
       "\\textbf{Method:}           &  Least Squares   & \\textbf{  F-statistic:       }          &     114.5   \\\\\n",
       "\\textbf{Date:}             & Tue, 25 Jun 2024 & \\textbf{  Prob (F-statistic):}          &  1.04e-27   \\\\\n",
       "\\textbf{Time:}             &     13:57:13     & \\textbf{  Log-Likelihood:    }          &   -160.62   \\\\\n",
       "\\textbf{No. Observations:} &         113      & \\textbf{  AIC:               }          &     325.2   \\\\\n",
       "\\textbf{Df Residuals:}     &         111      & \\textbf{  BIC:               }          &     330.7   \\\\\n",
       "\\textbf{Df Model:}         &           2      & \\textbf{                     }          &             \\\\\n",
       "\\textbf{Covariance Type:}  &    nonrobust     & \\textbf{                     }          &             \\\\\n",
       "\\bottomrule\n",
       "\\end{tabular}\n",
       "\\begin{tabular}{lcccccc}\n",
       "               & \\textbf{coef} & \\textbf{std err} & \\textbf{t} & \\textbf{P$> |$t$|$} & \\textbf{[0.025} & \\textbf{0.975]}  \\\\\n",
       "\\midrule\n",
       "\\textbf{const} &       0.0199  &        0.003     &     7.957  &         0.000        &        0.015    &        0.025     \\\\\n",
       "\\textbf{GDP60} &   -1.295e-07  &     4.81e-07     &    -0.269  &         0.788        &    -1.08e-06    &     8.24e-07     \\\\\n",
       "\\bottomrule\n",
       "\\end{tabular}\n",
       "\\begin{tabular}{lclc}\n",
       "\\textbf{Omnibus:}       &  0.078 & \\textbf{  Durbin-Watson:     } &    1.628  \\\\\n",
       "\\textbf{Prob(Omnibus):} &  0.962 & \\textbf{  Jarque-Bera (JB):  } &    0.037  \\\\\n",
       "\\textbf{Skew:}          & -0.040 & \\textbf{  Prob(JB):          } &    0.982  \\\\\n",
       "\\textbf{Kurtosis:}      &  2.961 & \\textbf{  Cond. No.          } & 1.02e+04  \\\\\n",
       "\\bottomrule\n",
       "\\end{tabular}\n",
       "%\\caption{OLS Regression Results}\n",
       "\\end{center}\n",
       "\n",
       "Notes: \\newline\n",
       " [1] R² is computed without centering (uncentered) since the model does not contain a constant. \\newline\n",
       " [2] Standard Errors assume that the covariance matrix of the errors is correctly specified. \\newline\n",
       " [3] The condition number is large, 1.02e+04. This might indicate that there are \\newline\n",
       " strong multicollinearity or other numerical problems."
      ],
      "text/plain": [
       "<class 'statsmodels.iolib.summary.Summary'>\n",
       "\"\"\"\n",
       "                                 OLS Regression Results                                \n",
       "=======================================================================================\n",
       "Dep. Variable:                      y   R-squared (uncentered):                   0.674\n",
       "Model:                            OLS   Adj. R-squared (uncentered):              0.668\n",
       "Method:                 Least Squares   F-statistic:                              114.5\n",
       "Date:                Tue, 25 Jun 2024   Prob (F-statistic):                    1.04e-27\n",
       "Time:                        13:57:13   Log-Likelihood:                         -160.62\n",
       "No. Observations:                 113   AIC:                                      325.2\n",
       "Df Residuals:                     111   BIC:                                      330.7\n",
       "Df Model:                           2                                                  \n",
       "Covariance Type:            nonrobust                                                  \n",
       "==============================================================================\n",
       "                 coef    std err          t      P>|t|      [0.025      0.975]\n",
       "------------------------------------------------------------------------------\n",
       "const          0.0199      0.003      7.957      0.000       0.015       0.025\n",
       "GDP60      -1.295e-07   4.81e-07     -0.269      0.788   -1.08e-06    8.24e-07\n",
       "==============================================================================\n",
       "Omnibus:                        0.078   Durbin-Watson:                   1.628\n",
       "Prob(Omnibus):                  0.962   Jarque-Bera (JB):                0.037\n",
       "Skew:                          -0.040   Prob(JB):                        0.982\n",
       "Kurtosis:                       2.961   Cond. No.                     1.02e+04\n",
       "==============================================================================\n",
       "\n",
       "Notes:\n",
       "[1] R² is computed without centering (uncentered) since the model does not contain a constant.\n",
       "[2] Standard Errors assume that the covariance matrix of the errors is correctly specified.\n",
       "[3] The condition number is large, 1.02e+04. This might indicate that there are\n",
       "strong multicollinearity or other numerical problems.\n",
       "\"\"\""
      ]
     },
     "execution_count": 14,
     "metadata": {},
     "output_type": "execute_result"
    }
   ],
   "source": [
    "# 分散が計算できなかった55行目のサンプルを削除する\n",
    "X_w = X_w.dropna(how='all')\n",
    "y_w = y_w.drop(index=55)\n",
    "\n",
    "model_gls = sm.OLS(y_w, X_w)\n",
    "gls_res = model_gls.fit()\n",
    "gls_res.summary()"
   ]
  },
  {
   "cell_type": "code",
   "execution_count": 15,
   "metadata": {},
   "outputs": [
    {
     "data": {
      "text/plain": [
       "const    1.993934e-02\n",
       "GDP60   -1.295052e-07\n",
       "dtype: float64"
      ]
     },
     "execution_count": 15,
     "metadata": {},
     "output_type": "execute_result"
    }
   ],
   "source": [
    "gls_res.params"
   ]
  },
  {
   "cell_type": "markdown",
   "metadata": {},
   "source": [
    "## Ex.1-3"
   ]
  },
  {
   "cell_type": "code",
   "execution_count": 16,
   "metadata": {},
   "outputs": [
    {
     "name": "stdout",
     "output_type": "stream",
     "text": [
      "0.1-Quantile Regression\n",
      "Intercept   -0.011296\n",
      "GDP60        0.000004\n",
      "dtype: float64\n",
      "0.2-Quantile Regression\n",
      "Intercept    0.000012\n",
      "GDP60        0.000003\n",
      "dtype: float64\n",
      "0.3-Quantile Regression\n",
      "Intercept    0.002912\n",
      "GDP60        0.000003\n",
      "dtype: float64\n",
      "0.4-Quantile Regression\n",
      "Intercept    0.009885\n",
      "GDP60        0.000002\n",
      "dtype: float64\n",
      "0.5-Quantile Regression\n",
      "Intercept    0.016104\n",
      "GDP60        0.000002\n",
      "dtype: float64\n",
      "0.6-Quantile Regression\n",
      "Intercept    2.375734e-02\n",
      "GDP60        6.590276e-07\n",
      "dtype: float64\n",
      "0.7-Quantile Regression\n",
      "Intercept    3.104945e-02\n",
      "GDP60       -4.467929e-07\n",
      "dtype: float64\n",
      "0.8-Quantile Regression\n",
      "Intercept    0.036381\n",
      "GDP60       -0.000001\n",
      "dtype: float64\n",
      "0.9-Quantile Regression\n",
      "Intercept    0.051791\n",
      "GDP60       -0.000004\n",
      "dtype: float64\n"
     ]
    }
   ],
   "source": [
    "model_quantile_dict = {}\n",
    "result_quantile_dict = {}\n",
    "quantiles = range(1, 10)\n",
    "for q in quantiles:\n",
    "    model = smf.quantreg('y ~ GDP60', gdp_df)\n",
    "    res = model.fit(q=q*0.1)\n",
    "    model_quantile_dict[q*0.1] = model\n",
    "    result_quantile_dict[q*0.1] = res\n",
    "    print(f'{round(q*0.1, 1)}-Quantile Regression')\n",
    "    print(res.params)"
   ]
  },
  {
   "cell_type": "markdown",
   "metadata": {},
   "source": [
    "## Ex.1-4"
   ]
  },
  {
   "cell_type": "code",
   "execution_count": 17,
   "metadata": {},
   "outputs": [
    {
     "data": {
      "image/png": "[encoded data removed]",
      "text/plain": [
       "<Figure size 640x480 with 1 Axes>"
      ]
     },
     "metadata": {},
     "output_type": "display_data"
    }
   ],
   "source": [
    "plt.scatter(gdp_df['GDP60'], gdp_df['y'], color='grey')\n",
    "plt.plot(gdp_df['GDP60'], ols_res.fittedvalues, color='red', label='OLS Regression')\n",
    "quantiles = range(1, 10)\n",
    "colors = plt.cm.viridis(np.linspace(0, 1, len(quantiles)))\n",
    "for q, color in zip(quantiles, colors):\n",
    "    plt.plot(gdp_df['GDP60'], result_quantile_dict[q*0.1].fittedvalues, color=color, label=f'{round(q*0.1, 1)}-Quantile Regression')\n",
    "plt.xlabel('GDP60_i')\n",
    "plt.ylabel('y_i')\n",
    "plt.legend(bbox_to_anchor=(1.05, 1), loc='upper left', borderaxespad=0.)\n",
    "plt.tight_layout()"
   ]
  },
  {
   "cell_type": "code",
   "execution_count": null,
   "metadata": {},
   "outputs": [],
   "source": []
  }
 ],
 "metadata": {
  "kernelspec": {
   "display_name": "newenv",
   "language": "python",
   "name": "python3"
  },
  "language_info": {
   "codemirror_mode": {
    "name": "ipython",
    "version": 3
   },
   "file_extension": ".py",
   "mimetype": "text/x-python",
   "name": "python",
   "nbconvert_exporter": "python",
   "pygments_lexer": "ipython3",
   "version": "3.8.10"
  }
 },
 "nbformat": 4,
 "nbformat_minor": 2
}
